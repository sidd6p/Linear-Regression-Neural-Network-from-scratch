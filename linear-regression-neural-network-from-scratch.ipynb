{
 "cells": [
  {
   "cell_type": "markdown",
   "id": "8bf1a07a",
   "metadata": {
    "papermill": {
     "duration": 0.004856,
     "end_time": "2024-04-29T18:43:14.946420",
     "exception": false,
     "start_time": "2024-04-29T18:43:14.941564",
     "status": "completed"
    },
    "tags": []
   },
   "source": [
    "## Imports"
   ]
  },
  {
   "cell_type": "code",
   "execution_count": 1,
   "id": "b3f34673",
   "metadata": {
    "execution": {
     "iopub.execute_input": "2024-04-29T18:43:14.961516Z",
     "iopub.status.busy": "2024-04-29T18:43:14.960790Z",
     "iopub.status.idle": "2024-04-29T18:43:18.441971Z",
     "shell.execute_reply": "2024-04-29T18:43:18.440848Z"
    },
    "papermill": {
     "duration": 3.493009,
     "end_time": "2024-04-29T18:43:18.444661",
     "exception": false,
     "start_time": "2024-04-29T18:43:14.951652",
     "status": "completed"
    },
    "tags": []
   },
   "outputs": [],
   "source": [
    "import numpy as np\n",
    "import torch"
   ]
  },
  {
   "cell_type": "markdown",
   "id": "6b059405",
   "metadata": {
    "papermill": {
     "duration": 0.00412,
     "end_time": "2024-04-29T18:43:18.453319",
     "exception": false,
     "start_time": "2024-04-29T18:43:18.449199",
     "status": "completed"
    },
    "tags": []
   },
   "source": [
    "## Data"
   ]
  },
  {
   "cell_type": "markdown",
   "id": "4e45c9ac",
   "metadata": {
    "papermill": {
     "duration": 0.00411,
     "end_time": "2024-04-29T18:43:18.461760",
     "exception": false,
     "start_time": "2024-04-29T18:43:18.457650",
     "status": "completed"
    },
    "tags": []
   },
   "source": [
    "> *targets_tensor[x] =   \n",
    "> (inputs_np[x][0] * coefficients_tensor[0]) +      \n",
    "> (inputs_np[x][1] * coefficients_tensor[1]) +  \n",
    "> (inputs_np[x][2] * coefficients_tensor[2]) +    \n",
    "> (inputs_np[x][3] * coefficients_tensor[3]) +    \n",
    "> (inputs_np[x][4] * coefficients_tensor[4]) +    \n",
    "> bias_tensor*"
   ]
  },
  {
   "cell_type": "code",
   "execution_count": 2,
   "id": "ec7a3ac3",
   "metadata": {
    "execution": {
     "iopub.execute_input": "2024-04-29T18:43:18.472367Z",
     "iopub.status.busy": "2024-04-29T18:43:18.471796Z",
     "iopub.status.idle": "2024-04-29T18:43:18.579879Z",
     "shell.execute_reply": "2024-04-29T18:43:18.578995Z"
    },
    "papermill": {
     "duration": 0.116372,
     "end_time": "2024-04-29T18:43:18.582447",
     "exception": false,
     "start_time": "2024-04-29T18:43:18.466075",
     "status": "completed"
    },
    "tags": []
   },
   "outputs": [
    {
     "name": "stdout",
     "output_type": "stream",
     "text": [
      "[93. 65. 99. 42. 82.] tensor([2., 8., 1., 3., 6.]) tensor([4.]) tensor(1427.)\n"
     ]
    }
   ],
   "source": [
    "num_samples = 5000\n",
    "num_features = 5\n",
    "\n",
    "inputs_np = np.random.randint(10, 100, size=(num_samples, num_features)).astype('float32')\n",
    "inputs_tensor = torch.tensor(inputs_np, requires_grad=False)\n",
    "\n",
    "coefficients_tensor = torch.tensor([2, 8, 1, 3, 6], dtype=torch.float32, requires_grad=False)\n",
    "bias_tensor = torch.tensor([4], dtype=torch.float32, requires_grad=False)\n",
    "\n",
    "targets_tensor = torch.matmul(inputs_tensor, coefficients_tensor) + bias_tensor\n",
    "\n",
    "print(inputs_np[2], coefficients_tensor, bias_tensor, targets_tensor[2])"
   ]
  },
  {
   "cell_type": "markdown",
   "id": "b99b2f10",
   "metadata": {
    "papermill": {
     "duration": 0.004266,
     "end_time": "2024-04-29T18:43:18.591303",
     "exception": false,
     "start_time": "2024-04-29T18:43:18.587037",
     "status": "completed"
    },
    "tags": []
   },
   "source": [
    "## Model"
   ]
  },
  {
   "cell_type": "code",
   "execution_count": 3,
   "id": "6d6c3652",
   "metadata": {
    "execution": {
     "iopub.execute_input": "2024-04-29T18:43:18.602605Z",
     "iopub.status.busy": "2024-04-29T18:43:18.601917Z",
     "iopub.status.idle": "2024-04-29T18:43:18.610476Z",
     "shell.execute_reply": "2024-04-29T18:43:18.609523Z"
    },
    "papermill": {
     "duration": 0.016932,
     "end_time": "2024-04-29T18:43:18.612688",
     "exception": false,
     "start_time": "2024-04-29T18:43:18.595756",
     "status": "completed"
    },
    "tags": []
   },
   "outputs": [
    {
     "name": "stdout",
     "output_type": "stream",
     "text": [
      "Model coefficients tensor([1., 1., 1., 1., 1.], requires_grad=True) and bias tensor([1.], requires_grad=True)\n",
      "Actual coefficients tensor([2., 8., 1., 3., 6.]) and bias tensor([4.])\n"
     ]
    }
   ],
   "source": [
    "# Initialize the weights and bias for the model with requires_grad=True for autograd\n",
    "w = torch.tensor([1, 1, 1, 1, 1], dtype=torch.float32, requires_grad=True)\n",
    "b = torch.tensor([1], dtype=torch.float32, requires_grad=True)\n",
    "\n",
    "# Print the initialized model coefficients and bias\n",
    "print(f\"Model coefficients {w} and bias {b}\")\n",
    "\n",
    "# Print the actual coefficients and bias used in the dataset\n",
    "print(f\"Actual coefficients {coefficients_tensor} and bias {bias_tensor}\")"
   ]
  },
  {
   "cell_type": "code",
   "execution_count": 4,
   "id": "2fb591ee",
   "metadata": {
    "execution": {
     "iopub.execute_input": "2024-04-29T18:43:18.623792Z",
     "iopub.status.busy": "2024-04-29T18:43:18.623201Z",
     "iopub.status.idle": "2024-04-29T18:43:18.628633Z",
     "shell.execute_reply": "2024-04-29T18:43:18.627456Z"
    },
    "papermill": {
     "duration": 0.013812,
     "end_time": "2024-04-29T18:43:18.631061",
     "exception": false,
     "start_time": "2024-04-29T18:43:18.617249",
     "status": "completed"
    },
    "tags": []
   },
   "outputs": [],
   "source": [
    "def mse(t1, t2):\n",
    "    \"\"\"\n",
    "    Mean Squared Error (MSE) loss function.\n",
    "    \n",
    "    Args:\n",
    "    t1 (torch.Tensor): The predicted tensor.\n",
    "    t2 (torch.Tensor): The target tensor.\n",
    "    \n",
    "    Returns:\n",
    "    torch.Tensor: The MSE loss between t1 and t2.\n",
    "    \"\"\"\n",
    "    diff = t1 - t2\n",
    "    return torch.sum(diff*diff) / diff.numel()\n"
   ]
  },
  {
   "cell_type": "code",
   "execution_count": 5,
   "id": "8e570aed",
   "metadata": {
    "execution": {
     "iopub.execute_input": "2024-04-29T18:43:18.642239Z",
     "iopub.status.busy": "2024-04-29T18:43:18.641812Z",
     "iopub.status.idle": "2024-04-29T18:43:18.646920Z",
     "shell.execute_reply": "2024-04-29T18:43:18.645695Z"
    },
    "papermill": {
     "duration": 0.013573,
     "end_time": "2024-04-29T18:43:18.649296",
     "exception": false,
     "start_time": "2024-04-29T18:43:18.635723",
     "status": "completed"
    },
    "tags": []
   },
   "outputs": [],
   "source": [
    "def model(x):\n",
    "    \"\"\"\n",
    "    Linear model.\n",
    "    \n",
    "    Args:\n",
    "    x (torch.Tensor): The input tensor.\n",
    "    \n",
    "    Returns:\n",
    "    torch.Tensor: The output tensor from the linear model.\n",
    "    \"\"\"\n",
    "    return x @ w.t() + b"
   ]
  },
  {
   "cell_type": "code",
   "execution_count": 6,
   "id": "5b0b9b28",
   "metadata": {
    "execution": {
     "iopub.execute_input": "2024-04-29T18:43:18.661597Z",
     "iopub.status.busy": "2024-04-29T18:43:18.660888Z",
     "iopub.status.idle": "2024-04-29T18:43:18.835274Z",
     "shell.execute_reply": "2024-04-29T18:43:18.834072Z"
    },
    "papermill": {
     "duration": 0.183704,
     "end_time": "2024-04-29T18:43:18.838087",
     "exception": false,
     "start_time": "2024-04-29T18:43:18.654383",
     "status": "completed"
    },
    "tags": []
   },
   "outputs": [],
   "source": [
    "epochs = 500\n",
    "lr = 1e-5\n",
    "\n",
    "for epoch in range(epochs):\n",
    "    preds = model(inputs_tensor)\n",
    "    \n",
    "    loss = mse(preds, targets_tensor)\n",
    "    \n",
    "    loss.backward()\n",
    "    \n",
    "    with torch.no_grad():\n",
    "        w -= w.grad * lr\n",
    "        b -= b.grad * lr\n",
    "        \n",
    "        w.grad.zero_()\n",
    "        b.grad.zero_()"
   ]
  },
  {
   "cell_type": "markdown",
   "id": "fc533ef3",
   "metadata": {
    "papermill": {
     "duration": 0.004939,
     "end_time": "2024-04-29T18:43:18.848417",
     "exception": false,
     "start_time": "2024-04-29T18:43:18.843478",
     "status": "completed"
    },
    "tags": []
   },
   "source": [
    "## Results"
   ]
  },
  {
   "cell_type": "code",
   "execution_count": 7,
   "id": "5d6b1763",
   "metadata": {
    "execution": {
     "iopub.execute_input": "2024-04-29T18:43:18.859515Z",
     "iopub.status.busy": "2024-04-29T18:43:18.859109Z",
     "iopub.status.idle": "2024-04-29T18:43:18.867185Z",
     "shell.execute_reply": "2024-04-29T18:43:18.865927Z"
    },
    "papermill": {
     "duration": 0.016276,
     "end_time": "2024-04-29T18:43:18.869389",
     "exception": false,
     "start_time": "2024-04-29T18:43:18.853113",
     "status": "completed"
    },
    "tags": []
   },
   "outputs": [
    {
     "name": "stdout",
     "output_type": "stream",
     "text": [
      "Model coefficients tensor([2.0120, 8.0057, 1.0137, 3.0111, 6.0091], requires_grad=True) and bias tensor([1.0540], requires_grad=True)\n",
      "Actual coefficients tensor([2., 8., 1., 3., 6.]) and bias tensor([4.])\n"
     ]
    }
   ],
   "source": [
    "print(f\"Model coefficients {w} and bias {b}\")\n",
    "\n",
    "print(f\"Actual coefficients {coefficients_tensor} and bias {bias_tensor}\")"
   ]
  }
 ],
 "metadata": {
  "kaggle": {
   "accelerator": "none",
   "dataSources": [],
   "dockerImageVersionId": 30698,
   "isGpuEnabled": false,
   "isInternetEnabled": true,
   "language": "python",
   "sourceType": "notebook"
  },
  "kernelspec": {
   "display_name": "Python 3",
   "language": "python",
   "name": "python3"
  },
  "language_info": {
   "codemirror_mode": {
    "name": "ipython",
    "version": 3
   },
   "file_extension": ".py",
   "mimetype": "text/x-python",
   "name": "python",
   "nbconvert_exporter": "python",
   "pygments_lexer": "ipython3",
   "version": "3.10.13"
  },
  "papermill": {
   "default_parameters": {},
   "duration": 7.703451,
   "end_time": "2024-04-29T18:43:19.695160",
   "environment_variables": {},
   "exception": null,
   "input_path": "__notebook__.ipynb",
   "output_path": "__notebook__.ipynb",
   "parameters": {},
   "start_time": "2024-04-29T18:43:11.991709",
   "version": "2.5.0"
  }
 },
 "nbformat": 4,
 "nbformat_minor": 5
}
