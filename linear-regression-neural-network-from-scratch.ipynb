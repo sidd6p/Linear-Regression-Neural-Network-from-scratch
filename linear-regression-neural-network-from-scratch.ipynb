{
 "cells": [
  {
   "cell_type": "code",
   "execution_count": 1,
   "id": "401dd180",
   "metadata": {
    "execution": {
     "iopub.execute_input": "2024-04-29T17:24:06.600786Z",
     "iopub.status.busy": "2024-04-29T17:24:06.600382Z",
     "iopub.status.idle": "2024-04-29T17:24:09.871489Z",
     "shell.execute_reply": "2024-04-29T17:24:09.870533Z"
    },
    "papermill": {
     "duration": 3.277157,
     "end_time": "2024-04-29T17:24:09.874163",
     "exception": false,
     "start_time": "2024-04-29T17:24:06.597006",
     "status": "completed"
    },
    "tags": []
   },
   "outputs": [],
   "source": [
    "import numpy as np\n",
    "import torch"
   ]
  }
 ],
 "metadata": {
  "kaggle": {
   "accelerator": "none",
   "dataSources": [],
   "dockerImageVersionId": 30698,
   "isGpuEnabled": false,
   "isInternetEnabled": true,
   "language": "python",
   "sourceType": "notebook"
  },
  "kernelspec": {
   "display_name": "Python 3",
   "language": "python",
   "name": "python3"
  },
  "language_info": {
   "codemirror_mode": {
    "name": "ipython",
    "version": 3
   },
   "file_extension": ".py",
   "mimetype": "text/x-python",
   "name": "python",
   "nbconvert_exporter": "python",
   "pygments_lexer": "ipython3",
   "version": "3.10.13"
  },
  "papermill": {
   "default_parameters": {},
   "duration": 6.817222,
   "end_time": "2024-04-29T17:24:10.698298",
   "environment_variables": {},
   "exception": null,
   "input_path": "__notebook__.ipynb",
   "output_path": "__notebook__.ipynb",
   "parameters": {},
   "start_time": "2024-04-29T17:24:03.881076",
   "version": "2.5.0"
  }
 },
 "nbformat": 4,
 "nbformat_minor": 5
}
